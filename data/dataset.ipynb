{
 "cells": [
  {
   "cell_type": "markdown",
   "metadata": {},
   "source": [
    "## Dataset 1: [Phishing Websites](https://archive.ics.uci.edu/dataset/327/phishing+websites)\n",
    "**Short Note:** Brief description of the dataset, including its purpose or what it represents.\n",
    "\n",
    "- **Number of Columns:** 30 columns\n",
    "- **Number of Instances:** 11055 instances\n",
    "- **Link to Dataset:** [Download Dataset](https://www.kaggle.com/datasets/akashkr/phishing-website-dataset/data)\n",
    "\n",
    "---\n",
    "<!-- \n",
    "## Dataset 2: [Phishing Websites Dataset](https://data.mendeley.com/datasets/72ptz43s9v/1)\n",
    "**Short Note:** Brief description of the dataset, including its purpose or what it represents.\n",
    "\n",
    "- **Number of Columns:** 111 columns\n",
    "- **Number of Instances:** 88647 instances\n",
    "- **Link to Dataset:** [Download Dataset](https://github.com/GregaVrbancic/Phishing-Dataset/tree/master)\n",
    "\n",
    "--- -->\n",
    "\n",
    "## Dataset 3: [Web page Phishing Detection Dataset](https://www.kaggle.com/datasets/shashwatwork/web-page-phishing-detection-dataset/data)\n",
    "**Short Note:** Brief description of the dataset, including its purpose or what it represents.\n",
    "\n",
    "- **Number of Columns:** 87 columns\n",
    "- **Number of Instances:** 11430 instances\n",
    "\n",
    "---\n",
    "\n",
    "<!-- ## Dataset 4: [PhiUSIIL Phishing URL (Website)](https://archive.ics.uci.edu/dataset/967/phiusiil+phishing+url+dataset)\n",
    "**Short Note:** Brief description of the dataset, including its purpose or what it represents.\n",
    "\n",
    "- **Number of Columns:** 54 columns\n",
    "- **Number of Instances:** 235795 instances\n",
    "\n",
    "--- -->\n",
    "\n",
    "## Dataset 5: [PhishStorm - phishing / legitimate URL dataset](https://research.aalto.fi/en/datasets/phishstorm-phishing-legitimate-url-dataset)\n",
    "**Short Note:** Brief description of the dataset, including its purpose or what it represents.\n",
    "\n",
    "- **Number of Columns:** 12 columns\n",
    "- **Number of Instances:** 96018 instances\n",
    "\n",
    "---\n",
    "## Dataset 6: []()\n",
    "**Short Note:** Brief description of the dataset, including its purpose or what it represents.\n",
    "\n",
    "- **Number of Columns:** 48 columns\n",
    "- **Number of Instances:** 10000 instances\n",
    "\n",
    "---"
   ]
  }
 ],
 "metadata": {
  "language_info": {
   "name": "python"
  }
 },
 "nbformat": 4,
 "nbformat_minor": 2
}
